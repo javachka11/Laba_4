{
  "nbformat": 4,
  "nbformat_minor": 0,
  "metadata": {
    "colab": {
      "name": "Sem6_Lab4.ipynb",
      "provenance": [],
      "authorship_tag": "ABX9TyNHUp6jVyj3U1Dsxnu6jKpm",
      "include_colab_link": true
    },
    "kernelspec": {
      "name": "python3",
      "display_name": "Python 3"
    },
    "language_info": {
      "name": "python"
    }
  },
  "cells": [
    {
      "cell_type": "markdown",
      "metadata": {
        "id": "view-in-github",
        "colab_type": "text"
      },
      "source": [
        "<a href=\"https://colab.research.google.com/github/javachka11/Laba_4/blob/main/Sem6_Lab4.ipynb\" target=\"_parent\"><img src=\"https://colab.research.google.com/assets/colab-badge.svg\" alt=\"Open In Colab\"/></a>"
      ]
    },
    {
      "cell_type": "code",
      "execution_count": 28,
      "metadata": {
        "id": "BD2BYmucZi2B"
      },
      "outputs": [],
      "source": [
        "import numpy as np\n",
        "import matplotlib.pyplot as plt\n",
        "import matplotlib.animation as animation"
      ]
    },
    {
      "cell_type": "code",
      "source": [
        "def phi_1(x):\n",
        "  return np.heaviside(x - 1, 1)*np.heaviside(2 - x, 1)\n",
        "\n",
        "def phi_2(x):\n",
        "  return (np.sin(np.pi*x/2)**2) * np.heaviside(x, 1) * np.heaviside(2 - x, 1)\n",
        "\n",
        "def phi_3(x):\n",
        "  return np.exp(-x) * np.heaviside(x, 1) * np.heaviside(2 - x, 1)"
      ],
      "metadata": {
        "id": "z7OOVkxhqbjf"
      },
      "execution_count": 142,
      "outputs": []
    },
    {
      "cell_type": "markdown",
      "source": [
        "> 1) Класс CarryTask отвечает за параметры задачи переноса, численное решение которой требуется найти.\n",
        "\n",
        "> 2) Класс Iterator отвечает за прогон по сетке вдоль оси t. Метод next() при каждом вызове записывает новый слой в поле arr.\n",
        "\n",
        "> 3) Класс Net содержит сетку значений на оси x от a до b (параметры задачи), шаг по координате h и шаг по времени tau."
      ],
      "metadata": {
        "id": "6-X7NT3OdDt3"
      }
    },
    {
      "cell_type": "code",
      "source": [
        "class CarryTask:\n",
        "  def __init__(self, t0, start, end, phi, task_type, a):\n",
        "    self.t0 = t0\n",
        "    self.start = start\n",
        "    self.end = end\n",
        "    self.task_type = task_type\n",
        "    if task_type == 'linear':\n",
        "      self.a = a\n",
        "    else:\n",
        "      self.a = None\n",
        "    self.phi = phi\n",
        "\n",
        "class Iterator:\n",
        "  def __init__(self):\n",
        "    self.arr = []\n",
        "\n",
        "  def next(self, arr):\n",
        "    self.arr = arr[:]\n",
        "\n",
        "  def current(self):\n",
        "    return self.arr\n",
        "\n",
        "  def get(self, i):\n",
        "    return self.arr[i]\n",
        "\n",
        "class Net:\n",
        "  def __init__(self, task, h, tau):\n",
        "    self.arr = np.arange(task.start, task.end, h)\n",
        "    self.h = h\n",
        "    self.tau = tau\n",
        "    self.len = len(self.arr)"
      ],
      "metadata": {
        "id": "n-61GwP_czqx"
      },
      "execution_count": 20,
      "outputs": []
    },
    {
      "cell_type": "markdown",
      "source": [
        "Разностная схема Лакса-Фридрихса"
      ],
      "metadata": {
        "id": "X0uPcQB6boF4"
      }
    },
    {
      "cell_type": "code",
      "source": [
        "def LF(t, ct, net, iter):\n",
        "  if t == ct.t0:\n",
        "    iter.next([ct.phi(x) for x in net.arr])\n",
        "  else:\n",
        "    if ct.task_type == 'first':\n",
        "      arr = [1/2*(iter.get(i+1) + iter.get(i-1)) - \n",
        "               net.tau/(2*net.h)*(ct.a*iter.get(i+1)-ct.a*iter.get(i-1))\n",
        "               for i in range(1, net.len-1)]\n",
        "    elif ct.task_type == 'second':\n",
        "      arr = [1/2*(iter.get(i+1) + iter.get(i-1)) - \n",
        "               net.tau/(4*net.h)*(iter.get(i+1)**2 - iter.get(i-1)**2)\n",
        "               for i in range(1, net.len-1)]\n",
        "    else:\n",
        "      arr = [1/2*(iter.get(i+1) + iter.get(i-1)) - \n",
        "               net.tau/(2*net.h)*(np.sin(iter.get(i+1)) - np.sin(iter.get(i-1)))\n",
        "               for i in range(1, net.len-1)]\n",
        "    arr.insert(0, 0); arr.insert(net.len, 0)\n",
        "    iter.next(arr)"
      ],
      "metadata": {
        "id": "1nh5fPIdcARP"
      },
      "execution_count": 140,
      "outputs": []
    },
    {
      "cell_type": "code",
      "source": [
        "def solver(t, ct, net, iter, ax, x_min=0, x_max=10, y_min=0, y_max=2):\n",
        "  LF(t, ct, net, iter)\n",
        "  ax.clear()\n",
        "  ax.axis((x_min, x_max, y_min, y_max))\n",
        "  line = ax.plot(net.arr, iter.current())\n",
        "  return line"
      ],
      "metadata": {
        "id": "YXQGbYZj3pDo"
      },
      "execution_count": 95,
      "outputs": []
    },
    {
      "cell_type": "code",
      "source": [
        "def task_1():\n",
        "  fig, ax = plt.subplots()\n",
        "\n",
        "  ct = CarryTask(t0=0, start=0, end=10,\n",
        "                 phi=phi_1,\n",
        "                 task_type='first', a=1)\n",
        "  iter = Iterator()\n",
        "  net = Net(task=ct, h=0.05, tau=0.05)\n",
        "\n",
        "  t_arr = np.arange(ct.t0, ct.t0 + 100, net.tau)\n",
        "\n",
        "  tt_animation = animation.FuncAnimation(fig,\n",
        "                                      solver,\n",
        "                                      frames=t_arr,\n",
        "                                      fargs = (ct, net, iter, ax),\n",
        "                                      interval = 10,\n",
        "                                      repeat = False)\n",
        "  tt_animation.save('carry_task_1.gif',\n",
        "                    writer = 'pillow',\n",
        "                    fps = 30)\n",
        "\n",
        "  '''t = 0\n",
        "  for i in range(100):\n",
        "    LF(t, ct, net, iter)\n",
        "    print(iter.current()[10:-10])\n",
        "    t += net.tau'''\n",
        "\n",
        "def task_2():\n",
        "  fig, ax = plt.subplots()\n",
        "\n",
        "  ct = CarryTask(t0=0, start=0, end=10,\n",
        "                 phi=phi_2,\n",
        "                 task_type='second', a=1)\n",
        "  iter = Iterator()\n",
        "  net = Net(task=ct, h=0.05, tau=0.05)\n",
        "\n",
        "  t_arr = np.arange(ct.t0, ct.t0 + 100, net.tau)\n",
        "\n",
        "  tt_animation = animation.FuncAnimation(fig,\n",
        "                                      solver,\n",
        "                                      frames=t_arr,\n",
        "                                      fargs = (ct, net, iter, ax),\n",
        "                                      interval = 10,\n",
        "                                      repeat = False)\n",
        "  tt_animation.save('carry_task_2.gif',\n",
        "                    writer = 'pillow',\n",
        "                    fps = 30)\n",
        "  \n",
        "  '''t = 0\n",
        "  for i in range(100):\n",
        "    LF(t, ct, net, iter)\n",
        "    print(iter.current())\n",
        "    t += net.tau'''\n",
        "\n",
        "def task_3():\n",
        "  fig, ax = plt.subplots()\n",
        "\n",
        "  ct = CarryTask(t0=0, start=0, end=10,\n",
        "                 phi=phi_3,\n",
        "                 task_type='third', a=1)\n",
        "  iter = Iterator()\n",
        "  net = Net(task=ct, h=0.05, tau=0.05)\n",
        "\n",
        "  t_arr = np.arange(ct.t0, ct.t0 + 100, net.tau)\n",
        "\n",
        "  tt_animation = animation.FuncAnimation(fig,\n",
        "                                      solver,\n",
        "                                      frames=t_arr,\n",
        "                                      fargs = (ct, net, iter, ax),\n",
        "                                      interval = 10,\n",
        "                                      repeat = False)\n",
        "  tt_animation.save('carry_task_3.gif',\n",
        "                    writer = 'pillow',\n",
        "                    fps = 30)\n",
        "\n",
        "  '''t = 0\n",
        "  for i in range(100):\n",
        "    LF(t, ct, net, iter)\n",
        "    print(iter.current()[10:-10])\n",
        "    t += net.tau'''"
      ],
      "metadata": {
        "id": "mGvfKjGmejVc"
      },
      "execution_count": 144,
      "outputs": []
    },
    {
      "cell_type": "code",
      "source": [
        "task_3()"
      ],
      "metadata": {
        "colab": {
          "base_uri": "https://localhost:8080/",
          "height": 269
        },
        "id": "LYyRWzYpuL1F",
        "outputId": "950c5adf-1fed-4db6-bcdc-b1cb474e3bae"
      },
      "execution_count": 145,
      "outputs": [
        {
          "output_type": "display_data",
          "data": {
            "text/plain": [
              "<Figure size 432x288 with 1 Axes>"
            ],
            "image/png": "[encoded data removed]"
          },
          "metadata": {
            "needs_background": "light"
          }
        }
      ]
    }
  ]
}